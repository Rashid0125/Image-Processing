{
 "cells": [
  {
   "cell_type": "code",
   "execution_count": 5,
   "id": "902d363a",
   "metadata": {},
   "outputs": [
    {
     "name": "stderr",
     "output_type": "stream",
     "text": [
      "A subdirectory or file frames already exists.\n",
      "A subdirectory or file gen_imgs already exists.\n"
     ]
    },
    {
     "name": "stdout",
     "output_type": "stream",
     "text": [
      "OpenCV(4.7.0) D:\\a\\opencv-python\\opencv-python\\opencv\\modules\\imgcodecs\\src\\loadsave.cpp:783: error: (-215:Assertion failed) !_img.empty() in function 'cv::imwrite'\n",
      "\n",
      "['frame0.jpg', 'frame1.jpg', 'frame10.jpg', 'frame100.jpg', 'frame101.jpg', 'frame102.jpg', 'frame103.jpg', 'frame104.jpg', 'frame105.jpg', 'frame106.jpg', 'frame107.jpg', 'frame108.jpg', 'frame109.jpg', 'frame11.jpg', 'frame110.jpg', 'frame111.jpg', 'frame112.jpg', 'frame113.jpg', 'frame114.jpg', 'frame115.jpg', 'frame116.jpg', 'frame117.jpg', 'frame118.jpg', 'frame119.jpg', 'frame12.jpg', 'frame120.jpg', 'frame121.jpg', 'frame122.jpg', 'frame123.jpg', 'frame124.jpg', 'frame125.jpg', 'frame126.jpg', 'frame127.jpg', 'frame128.jpg', 'frame129.jpg', 'frame13.jpg', 'frame130.jpg', 'frame131.jpg', 'frame132.jpg', 'frame133.jpg', 'frame134.jpg', 'frame135.jpg', 'frame136.jpg', 'frame137.jpg', 'frame138.jpg', 'frame139.jpg', 'frame14.jpg', 'frame140.jpg', 'frame141.jpg', 'frame142.jpg', 'frame143.jpg', 'frame144.jpg', 'frame145.jpg', 'frame146.jpg', 'frame147.jpg', 'frame148.jpg', 'frame149.jpg', 'frame15.jpg', 'frame150.jpg', 'frame151.jpg', 'frame152.jpg', 'frame153.jpg', 'frame154.jpg', 'frame155.jpg', 'frame156.jpg', 'frame157.jpg', 'frame158.jpg', 'frame159.jpg', 'frame16.jpg', 'frame160.jpg', 'frame161.jpg', 'frame162.jpg', 'frame163.jpg', 'frame164.jpg', 'frame165.jpg', 'frame166.jpg', 'frame167.jpg', 'frame168.jpg', 'frame169.jpg', 'frame17.jpg', 'frame170.jpg', 'frame171.jpg', 'frame172.jpg', 'frame173.jpg', 'frame174.jpg', 'frame175.jpg', 'frame176.jpg', 'frame177.jpg', 'frame178.jpg', 'frame179.jpg', 'frame18.jpg', 'frame180.jpg', 'frame181.jpg', 'frame182.jpg', 'frame183.jpg', 'frame184.jpg', 'frame185.jpg', 'frame186.jpg', 'frame187.jpg', 'frame188.jpg', 'frame189.jpg', 'frame19.jpg', 'frame190.jpg', 'frame191.jpg', 'frame192.jpg', 'frame193.jpg', 'frame194.jpg', 'frame195.jpg', 'frame196.jpg', 'frame197.jpg', 'frame198.jpg', 'frame199.jpg', 'frame2.jpg', 'frame20.jpg', 'frame200.jpg', 'frame201.jpg', 'frame202.jpg', 'frame203.jpg', 'frame204.jpg', 'frame205.jpg', 'frame206.jpg', 'frame207.jpg', 'frame208.jpg', 'frame209.jpg', 'frame21.jpg', 'frame210.jpg', 'frame211.jpg', 'frame212.jpg', 'frame213.jpg', 'frame214.jpg', 'frame215.jpg', 'frame216.jpg', 'frame217.jpg', 'frame218.jpg', 'frame219.jpg', 'frame22.jpg', 'frame220.jpg', 'frame221.jpg', 'frame222.jpg', 'frame223.jpg', 'frame224.jpg', 'frame225.jpg', 'frame226.jpg', 'frame227.jpg', 'frame228.jpg', 'frame229.jpg', 'frame23.jpg', 'frame230.jpg', 'frame231.jpg', 'frame232.jpg', 'frame233.jpg', 'frame234.jpg', 'frame235.jpg', 'frame236.jpg', 'frame237.jpg', 'frame238.jpg', 'frame239.jpg', 'frame24.jpg', 'frame240.jpg', 'frame241.jpg', 'frame242.jpg', 'frame243.jpg', 'frame244.jpg', 'frame245.jpg', 'frame246.jpg', 'frame247.jpg', 'frame248.jpg', 'frame249.jpg', 'frame25.jpg', 'frame250.jpg', 'frame251.jpg', 'frame252.jpg', 'frame253.jpg', 'frame254.jpg', 'frame255.jpg', 'frame256.jpg', 'frame257.jpg', 'frame258.jpg', 'frame259.jpg', 'frame26.jpg', 'frame260.jpg', 'frame261.jpg', 'frame262.jpg', 'frame263.jpg', 'frame264.jpg', 'frame265.jpg', 'frame266.jpg', 'frame267.jpg', 'frame268.jpg', 'frame269.jpg', 'frame27.jpg', 'frame270.jpg', 'frame271.jpg', 'frame272.jpg', 'frame273.jpg', 'frame274.jpg', 'frame275.jpg', 'frame276.jpg', 'frame277.jpg', 'frame278.jpg', 'frame279.jpg', 'frame28.jpg', 'frame280.jpg', 'frame281.jpg', 'frame282.jpg', 'frame283.jpg', 'frame284.jpg', 'frame285.jpg', 'frame286.jpg', 'frame287.jpg', 'frame288.jpg', 'frame289.jpg', 'frame29.jpg', 'frame290.jpg', 'frame291.jpg', 'frame292.jpg', 'frame3.jpg', 'frame30.jpg', 'frame31.jpg', 'frame32.jpg', 'frame33.jpg', 'frame34.jpg', 'frame35.jpg', 'frame36.jpg', 'frame37.jpg', 'frame38.jpg', 'frame39.jpg', 'frame4.jpg', 'frame40.jpg', 'frame41.jpg', 'frame42.jpg', 'frame43.jpg', 'frame44.jpg', 'frame45.jpg', 'frame46.jpg', 'frame47.jpg', 'frame48.jpg', 'frame49.jpg', 'frame5.jpg', 'frame50.jpg', 'frame51.jpg', 'frame52.jpg', 'frame53.jpg', 'frame54.jpg', 'frame55.jpg', 'frame56.jpg', 'frame57.jpg', 'frame58.jpg', 'frame59.jpg', 'frame6.jpg', 'frame60.jpg', 'frame61.jpg', 'frame62.jpg', 'frame63.jpg', 'frame64.jpg', 'frame65.jpg', 'frame66.jpg', 'frame67.jpg', 'frame68.jpg', 'frame69.jpg', 'frame7.jpg', 'frame70.jpg', 'frame71.jpg', 'frame72.jpg', 'frame73.jpg', 'frame74.jpg', 'frame75.jpg', 'frame76.jpg', 'frame77.jpg', 'frame78.jpg', 'frame79.jpg', 'frame8.jpg', 'frame80.jpg', 'frame81.jpg', 'frame82.jpg', 'frame83.jpg', 'frame84.jpg', 'frame85.jpg', 'frame86.jpg', 'frame87.jpg', 'frame88.jpg', 'frame89.jpg', 'frame9.jpg', 'frame90.jpg', 'frame91.jpg', 'frame92.jpg', 'frame93.jpg', 'frame94.jpg', 'frame95.jpg', 'frame96.jpg', 'frame97.jpg', 'frame98.jpg', 'frame99.jpg']\n"
     ]
    }
   ],
   "source": [
    "import cv2\n",
    "import mediapipe as mp\n",
    "import matplotlib.pyplot as plt\n",
    "import os\n",
    "\n",
    "!mkdir frames\n",
    "!mkdir gen_imgs\n",
    "#Extracting each frames from input video\n",
    "def FrameCapture(path):\n",
    "    try:\n",
    "        # Path to video file\n",
    "        vidObj = cv2.VideoCapture(path)\n",
    "        # Used as counter variable\n",
    "        count = 0\n",
    "        # checks whether frames were extracted\n",
    "        success = 1\n",
    "        while success:\n",
    "            # function extract frames\n",
    "            success, image = vidObj.read()\n",
    "            # Saves the frames with frame-count\n",
    "            cv2.imwrite(\"frames/frame%d.jpg\" % count, image)\n",
    "            count += 1\n",
    "    except Exception as e:\n",
    "        print(e)\n",
    "FrameCapture(\"task_4_video.mp4\")\n",
    "\n",
    "\n",
    "\n",
    "# Initialize mediapipe pose class.\n",
    "mp_pose = mp.solutions.pose\n",
    "\n",
    "# Setup the Pose function for images - independently for the images standalone processing.\n",
    "pose_image = mp_pose.Pose(static_image_mode=True, min_detection_confidence=0.5)\n",
    "\n",
    "# Setup the Pose function for videos - for video processing.\n",
    "pose_video = mp_pose.Pose(static_image_mode=False, min_detection_confidence=0.7,\n",
    "                          min_tracking_confidence=0.7)\n",
    "\n",
    "# Initialize mediapipe drawing class - to draw the landmarks points.\n",
    "mp_drawing = mp.solutions.drawing_utils\n",
    "\n",
    "def detectPose(image_pose, pose, draw=False, display=False):\n",
    "    \n",
    "    original_image = image_pose.copy()\n",
    "    \n",
    "    image_in_RGB = cv2.cvtColor(image_pose, cv2.COLOR_BGR2RGB)\n",
    "    \n",
    "    resultant = pose.process(image_in_RGB)\n",
    "\n",
    "    if resultant.pose_landmarks and draw:    \n",
    "\n",
    "        mp_drawing.draw_landmarks(image=original_image, landmark_list=resultant.pose_landmarks,\n",
    "                                  connections=mp_pose.POSE_CONNECTIONS,\n",
    "                                  landmark_drawing_spec=mp_drawing.DrawingSpec(color=(255,255,255),\n",
    "                                                                               thickness=3, circle_radius=3),\n",
    "                                  connection_drawing_spec=mp_drawing.DrawingSpec(color=(49,125,237),\n",
    "                                                                               thickness=2, circle_radius=2))\n",
    "        \n",
    "        return original_image\n",
    "    else:\n",
    "        return image_pose\n",
    "cnt=0\n",
    "for pose_frame in os.listdir(\"frames/\"):\n",
    "    try:\n",
    "        image_path = 'frames/'+pose_frame\n",
    "        output = cv2.imread(image_path)\n",
    "        pose_detected_img = detectPose(output, pose_image, draw=True, display=False)\n",
    "        cv2.imwrite(f\"gen_imgs/{pose_frame}\",pose_detected_img)\n",
    "    except Exception as e:\n",
    "        print(e,cnt)\n",
    "    cnt+=1\n",
    "    \n",
    "def generate_video():\n",
    "    image_folder = 'gen_imgs' \n",
    "    video_name = 'output.mp4'\n",
    "      \n",
    "    images = [img for img in os.listdir(image_folder)\n",
    "              if img.endswith(\".jpg\") or\n",
    "                 img.endswith(\".jpeg\") or\n",
    "                 img.endswith(\"png\")]\n",
    "     \n",
    "    # Array images should only consider\n",
    "    # the image files ignoring others if any\n",
    "    print(images) \n",
    "  \n",
    "    frame = cv2.imread(os.path.join(image_folder, images[0]))\n",
    "  \n",
    "    # setting the frame width, height width\n",
    "    # the width, height of first image\n",
    "    height, width, layers = frame.shape  \n",
    "  \n",
    "    video = cv2.VideoWriter(video_name, fourcc=0, fps=17,frameSize= (width, height)) \n",
    "    # Appending the images to the video one by one\n",
    "    for i in range(len(images)): \n",
    "        img = cv2.imread(os.path.join(image_folder, f\"frame{i}.jpg\"))\n",
    "        video.write(img) \n",
    "      \n",
    "    # Deallocating memories taken for window creation\n",
    "    cv2.destroyAllWindows() \n",
    "    video.release()  # releasing the video generated\n",
    "    \n",
    "\n",
    "# Calling the generate_video function\n",
    "generate_video()"
   ]
  },
  {
   "cell_type": "code",
   "execution_count": 6,
   "id": "2289973b",
   "metadata": {},
   "outputs": [
    {
     "data": {
      "text/plain": [
       "'C:\\\\Users\\\\Acer\\\\OneDrive\\\\Desktop\\\\assignment-AI-engineer\\\\TASK-4'"
      ]
     },
     "execution_count": 6,
     "metadata": {},
     "output_type": "execute_result"
    }
   ],
   "source": [
    "pwd"
   ]
  },
  {
   "cell_type": "code",
   "execution_count": null,
   "id": "ba4eae31",
   "metadata": {},
   "outputs": [],
   "source": []
  }
 ],
 "metadata": {
  "kernelspec": {
   "display_name": "Python 3 (ipykernel)",
   "language": "python",
   "name": "python3"
  },
  "language_info": {
   "codemirror_mode": {
    "name": "ipython",
    "version": 3
   },
   "file_extension": ".py",
   "mimetype": "text/x-python",
   "name": "python",
   "nbconvert_exporter": "python",
   "pygments_lexer": "ipython3",
   "version": "3.9.16"
  }
 },
 "nbformat": 4,
 "nbformat_minor": 5
}
